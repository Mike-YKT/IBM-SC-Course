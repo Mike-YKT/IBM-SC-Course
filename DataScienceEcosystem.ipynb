{
 "cells": [
  {
   "cell_type": "markdown",
   "id": "6ae57872",
   "metadata": {},
   "source": [
    "# Data Science Tools and Ecosystem"
   ]
  },
  {
   "cell_type": "markdown",
   "id": "09ecb3c1",
   "metadata": {},
   "source": [
    "In this notebook, Data Science Tools and Ecosystem are summarized."
   ]
  },
  {
   "cell_type": "markdown",
   "id": "25a068e8",
   "metadata": {},
   "source": [
    "Some of the popular languages that Data Scientists use are:\n",
    "1. Pyphon \n",
    "2. R \n",
    "3. SQL"
   ]
  },
  {
   "cell_type": "markdown",
   "id": "36d68f5b",
   "metadata": {},
   "source": [
    "Some of the common libraries used by Data Scientists include:\n",
    "1. NumPy\n",
    "2. Pandas\n",
    "3. Matplotib\n",
    "4. Scikit-learn"
   ]
  },
  {
   "cell_type": "markdown",
   "id": "8b329508",
   "metadata": {},
   "source": [
    "| Data Science Tools |\n",
    "|       :---:        |\n",
    "| Jupyter Notebook   |\n",
    "| Pyphon             |\n",
    "| Apache Spark       | "
   ]
  },
  {
   "cell_type": "markdown",
   "id": "516bf3d3",
   "metadata": {},
   "source": [
    "### Below are the few examples of evalusting arithmetic expressions in Pyphon"
   ]
  },
  {
   "cell_type": "code",
   "execution_count": null,
   "id": "b811cec3",
   "metadata": {},
   "outputs": [
    {
     "data": {
      "text/plain": [
       "17"
      ]
     },
     "execution_count": 2,
     "metadata": {},
     "output_type": "execute_result"
    }
   ],
   "source": [
    "# This is a simple arithmetic expression to multiply then add integers\n",
    "(3*4)+5"
   ]
  },
  {
   "cell_type": "code",
   "execution_count": 9,
   "id": "2c0e4e3f",
   "metadata": {},
   "outputs": [
    {
     "name": "stdout",
     "output_type": "stream",
     "text": [
      "3.33 Hours\n"
     ]
    }
   ],
   "source": [
    "# This will convert 200 munutes to hours by dividing 60\n",
    "print(round(200/60, 2), \"Hours\")"
   ]
  },
  {
   "cell_type": "markdown",
   "id": "0d82500c",
   "metadata": {},
   "source": [
    "**Objectives:**\n",
    "- Pyphon\n",
    "- R\n",
    "- SQL\n",
    "- Jupyter Notebook\n",
    "- VS Code\n",
    "- Git"
   ]
  },
  {
   "cell_type": "markdown",
   "id": "7430da86",
   "metadata": {},
   "source": [
    "## Author ## \n",
    "Tong Yat Kwan"
   ]
  }
 ],
 "metadata": {
  "kernelspec": {
   "display_name": "Python 3",
   "language": "python",
   "name": "python3"
  },
  "language_info": {
   "codemirror_mode": {
    "name": "ipython",
    "version": 3
   },
   "file_extension": ".py",
   "mimetype": "text/x-python",
   "name": "python",
   "nbconvert_exporter": "python",
   "pygments_lexer": "ipython3",
   "version": "3.13.3"
  }
 },
 "nbformat": 4,
 "nbformat_minor": 5
}
