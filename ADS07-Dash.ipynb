{
 "cells": [
  {
   "cell_type": "code",
   "execution_count": 40,
   "id": "ab2aa2b9",
   "metadata": {},
   "outputs": [],
   "source": [
    "# Import required libraries\n",
    "import pandas as pd\n",
    "import dash\n",
    "from dash import html\n",
    "from dash import dcc\n",
    "from dash.dependencies import Input, Output\n",
    "import plotly.express as px"
   ]
  },
  {
   "cell_type": "code",
   "execution_count": 41,
   "id": "bbae3279",
   "metadata": {},
   "outputs": [
    {
     "name": "stdout",
     "output_type": "stream",
     "text": [
      "--2025-08-06 20:14:43--  https://cf-courses-data.s3.us.cloud-object-storage.appdomain.cloud/IBM-DS0321EN-SkillsNetwork/datasets/spacex_launch_dash.csv\n",
      "Resolving cf-courses-data.s3.us.cloud-object-storage.appdomain.cloud (cf-courses-data.s3.us.cloud-object-storage.appdomain.cloud)... 169.63.118.104\n",
      "Connecting to cf-courses-data.s3.us.cloud-object-storage.appdomain.cloud (cf-courses-data.s3.us.cloud-object-storage.appdomain.cloud)|169.63.118.104|:443... connected.\n",
      "HTTP request sent, awaiting response... 200 OK\n",
      "Length: 2476 (2.4K) [text/csv]\n",
      "Saving to: '/tmp/spacex_launch_dash.csv.2'\n",
      "\n",
      "spacex_launch_dash. 100%[===================>]   2.42K  --.-KB/s    in 0s      \n",
      "\n",
      "2025-08-06 20:14:44 (590 MB/s) - '/tmp/spacex_launch_dash.csv.2' saved [2476/2476]\n",
      "\n",
      "\u001b[35m68796f648840d\u001b[m\u001b[m\n",
      "\u001b[35m687b0bbf909fa\u001b[m\u001b[m\n",
      "\u001b[32mSublime Text.4cff18d2bab96a93366319a9e0fa060d.94967930a6d7efa1ec47f82db33908d6.sock\u001b[m\u001b[m\n",
      "Tor ProjectUpdateLock-191289357BF03661\n",
      "__KMP_REGISTERED_LIB_44598\n",
      "\u001b[34mcom.apple.launchd.RnGOcbMFq5\u001b[m\u001b[m\n",
      "\u001b[34mcom.sogou.inputmethod\u001b[m\u001b[m\n",
      "spacex_launch_dash.csv\n",
      "spacex_launch_dash.csv.1\n",
      "spacex_launch_dash.csv.2\n",
      "\u001b[32mwarp_service\u001b[m\u001b[m\n"
     ]
    }
   ],
   "source": [
    "!wget -P /tmp/ https://cf-courses-data.s3.us.cloud-object-storage.appdomain.cloud/IBM-DS0321EN-SkillsNetwork/datasets/spacex_launch_dash.csv\n",
    "!ls /tmp/"
   ]
  },
  {
   "cell_type": "code",
   "execution_count": 42,
   "id": "7bf96794",
   "metadata": {},
   "outputs": [],
   "source": [
    "# Read the airline data into pandas dataframe\n",
    "spacex_df=pd.read_csv('/tmp/spacex_launch_dash.csv')\n",
    "#spacex_df.head()\n",
    "max_payload = spacex_df['Payload Mass (kg)'].max()\n",
    "min_payload = spacex_df['Payload Mass (kg)'].min()"
   ]
  },
  {
   "cell_type": "code",
   "execution_count": 43,
   "id": "8fc8a0b8",
   "metadata": {},
   "outputs": [],
   "source": [
    "# Create a dash application\n",
    "app = dash.Dash(__name__)\n"
   ]
  },
  {
   "cell_type": "code",
   "execution_count": 44,
   "id": "7fd0fd60",
   "metadata": {},
   "outputs": [],
   "source": [
    "# Create an app layout\n",
    "app.layout = html.Div(children=[\n",
    "    html.H1('SpaceX Launch Records Dashboard',\n",
    "                style={'textAlign': 'center', 'color': '#503D36','font-size': 40}),\n",
    "                # TASK 1: Add a dropdown list to enable Launch Site selection\n",
    "                # The default select value is for ALL sites\n",
    "                html.Div([\n",
    "                    html.Label(\"Select Launch Site:\"),\n",
    "                    dcc.Dropdown(\n",
    "                        id='site-dropdown', \n",
    "                        options=[\n",
    "                            {'label': 'All Sites', 'value': 'ALL'},\n",
    "                            {'label': 'CCAFS LC-40', 'value': 'CCAFS LC-40'},\n",
    "                            {'label': 'CCAFS SLC-40', 'value': 'CCAFS SLC-40'},\n",
    "                            {'label': 'KSC LC-39A', 'value': 'KSC LC-39A'},\n",
    "                            {'label': 'VAFB SLC-4E', 'value': 'VAFB SLC-4E'},\n",
    "                        ],\n",
    "                        value='ALL',\n",
    "                        placeholder=\"Select a Launch Site here\",\n",
    "                        searchable=True\n",
    "                        #style={'width': '80%', 'padding': '3px', 'font-size': '20px', 'text-align-last': 'center'}\n",
    "                        )\n",
    "                    ], style={'width': '80%', 'padding': '10px', 'margin': 'auto'}),\n",
    "                        \n",
    "\n",
    "                    # TASK 2: Add a pie chart to show the total successful launches count for all sites\n",
    "                    # If a specific launch site was selected, show the Success vs. Failed counts for the site\n",
    "                    html.Div(dcc.Graph(id='success-pie-chart'), style={'width': '80%', 'margin': 'auto'}),\n",
    "                    html.Br(),\n",
    "\n",
    "                    \n",
    "                    # TASK 3: Add a slider to select payload range\n",
    "                    html.Div([\n",
    "                        html.Label(\"Select Payload Mass Range (Kg):\"),\n",
    "                        dcc.RangeSlider(\n",
    "                            id='payload-slider',\n",
    "                            min=0,\n",
    "                            max=10000,\n",
    "                            step=500,\n",
    "                            value=[min_payload, max_payload],\n",
    "                            marks={\n",
    "                                0: '0',\n",
    "                                1000: '1000',\n",
    "                                2000: '2000',\n",
    "                                3000: '3000',\n",
    "                                4000: '4000',\n",
    "                                5000: '5000',\n",
    "                                6000: '6000',\n",
    "                                7000: '7000',\n",
    "                                8000: '8000',\n",
    "                                9000: '9000',\n",
    "                                10000: '10000'\n",
    "                            }\n",
    "                            #marks={i: f'{i}' for i in range(spacex_df['Payload Mass (kg)'].min(), spacex_df['Payload Mass (kg)'].max())},\n",
    "                            #value=[min_payload, max_payload]\n",
    "                        )\n",
    "                    ], style={'width': '80%', 'margin': 'auto', 'padding': '20px'}),\n",
    "\n",
    "                    # TASK 4: Add a scatter chart to show the correlation between payload and launch success\n",
    "                    html.Div(dcc.Graph(id='success-payload-scatter-chart'), style={'width': '80%', 'margin': 'auto'}),\n",
    "])\n"
   ]
  },
  {
   "cell_type": "code",
   "execution_count": 45,
   "id": "e6fb133c",
   "metadata": {},
   "outputs": [],
   "source": [
    "# TASK 2:\n",
    "# Add a callback function for `site-dropdown` as input, `success-pie-chart` as output\n",
    "@app.callback(\n",
    "    Output(component_id='success-pie-chart', component_property='figure'),\n",
    "    Input(component_id='site-dropdown', component_property='value')\n",
    ")\n",
    "def get_pie_chart(entered_site):\n",
    "    if entered_site == 'ALL':\n",
    "        # Show total successful launches for all sites\n",
    "        fig = px.pie(\n",
    "            spacex_df[spacex_df['class'] == 1],\n",
    "            names='Launch Site',\n",
    "            title='Total Successful Launches by Site'\n",
    "        )\n",
    "        return fig\n",
    "    else:\n",
    "        # Filter dataframe for the selected site\n",
    "        filtered_df = spacex_df[spacex_df['Launch Site'] == entered_site]\n",
    "\n",
    "        # Count success vs. failure for the site\n",
    "        site_counts = filtered_df['class'].value_counts().reset_index()\n",
    "        site_counts.columns = ['class', 'count']\n",
    "        site_counts['class'] = site_counts['class'].map({1: 'Success', 0: 'Failure'})\n",
    "\n",
    "        # Show success vs. failure counts for the selected site\n",
    "        fig = px.pie(\n",
    "            site_counts,\n",
    "            values='count',\n",
    "            names='class',\n",
    "            title=f'Success vs. Failure Counts for {entered_site}',\n",
    "            color='class',\n",
    "            color_discrete_map={'Success': 'green', 'Failure': 'red'}\n",
    "        )\n",
    "        return fig"
   ]
  },
  {
   "cell_type": "code",
   "execution_count": 47,
   "id": "00a8e53c",
   "metadata": {},
   "outputs": [],
   "source": [
    "# TASK 4:\n",
    "# Add a callback function for `site-dropdown` and `payload-slider` as inputs, `success-payload-scatter-chart` as output\n",
    "@app.callback(\n",
    "    Output(component_id='success-payload-scatter-chart', component_property='figure'),\n",
    "    [Input(component_id='site-dropdown', component_property='value'),\n",
    "     Input(component_id='payload-slider', component_property='value')]\n",
    ")\n",
    "def get_scatter_chart(entered_site, payload_range):\n",
    "    # Filter by payload range first\n",
    "    low, high = payload_range\n",
    "    filtered_df = spacex_df[(spacex_df['Payload Mass (kg)'] >= low) & (spacex_df['Payload Mass (kg)'] <= high)]\n",
    "\n",
    "    # Further filter by launch site if not 'ALL'\n",
    "    if entered_site != 'ALL':\n",
    "        filtered_df = filtered_df[filtered_df['Launch Site'] == entered_site]\n",
    "\n",
    "    # Create the scatter plot\n",
    "    fig = px.scatter(\n",
    "        filtered_df,\n",
    "        x='Payload Mass (kg)',\n",
    "        y='class',\n",
    "        color='Launch Site',\n",
    "        title='Payload Mass vs. Launch Outcome',\n",
    "        labels={'Class': 'Launch Outcome (1=Success, 0=Failure)'}\n",
    "    )\n",
    "    return fig"
   ]
  },
  {
   "cell_type": "code",
   "execution_count": 48,
   "id": "3d52a423",
   "metadata": {},
   "outputs": [
    {
     "data": {
      "text/html": [
       "\n",
       "        <iframe\n",
       "            width=\"100%\"\n",
       "            height=\"650\"\n",
       "            src=\"http://127.0.0.1:8050/\"\n",
       "            frameborder=\"0\"\n",
       "            allowfullscreen\n",
       "            \n",
       "        ></iframe>\n",
       "        "
      ],
      "text/plain": [
       "<IPython.lib.display.IFrame at 0x12409fa50>"
      ]
     },
     "metadata": {},
     "output_type": "display_data"
    }
   ],
   "source": [
    "# Run the app\n",
    "if __name__ == '__main__':\n",
    "    app.run()"
   ]
  }
 ],
 "metadata": {
  "kernelspec": {
   "display_name": "Python 3",
   "language": "python",
   "name": "python3"
  },
  "language_info": {
   "codemirror_mode": {
    "name": "ipython",
    "version": 3
   },
   "file_extension": ".py",
   "mimetype": "text/x-python",
   "name": "python",
   "nbconvert_exporter": "python",
   "pygments_lexer": "ipython3",
   "version": "3.13.3"
  }
 },
 "nbformat": 4,
 "nbformat_minor": 5
}
